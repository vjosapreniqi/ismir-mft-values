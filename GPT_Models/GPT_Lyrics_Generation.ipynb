{
 "cells": [
  {
   "cell_type": "markdown",
   "metadata": {
    "id": "T08lMB1pYdet"
   },
   "source": [
    "# Install Libraries (Colab Only)"
   ]
  },
  {
   "cell_type": "code",
   "execution_count": 1,
   "metadata": {
    "executionInfo": {
     "elapsed": 604,
     "status": "ok",
     "timestamp": 1711477643770,
     "user": {
      "displayName": "Vjosa Preniqi",
      "userId": "03254366230098233872"
     },
     "user_tz": 0
    },
    "id": "izrBWeBeBEQv"
   },
   "outputs": [],
   "source": [
    "import pandas as pd"
   ]
  },
  {
   "cell_type": "code",
   "execution_count": 3,
   "metadata": {
    "colab": {
     "base_uri": "https://localhost:8080/"
    },
    "executionInfo": {
     "elapsed": 19266,
     "status": "ok",
     "timestamp": 1711452789622,
     "user": {
      "displayName": "Vjosa Preniqi",
      "userId": "03254366230098233872"
     },
     "user_tz": 0
    },
    "id": "uJvxUvaiXMow",
    "outputId": "3808fe54-c911-4f72-c9b6-a613a5450b5b"
   },
   "outputs": [],
   "source": [
    "!pip install openai"
   ]
  },
  {
   "cell_type": "code",
   "execution_count": 3,
   "metadata": {
    "colab": {
     "base_uri": "https://localhost:8080/"
    },
    "executionInfo": {
     "elapsed": 16865,
     "status": "ok",
     "timestamp": 1711452806484,
     "user": {
      "displayName": "Vjosa Preniqi",
      "userId": "03254366230098233872"
     },
     "user_tz": 0
    },
    "id": "P_0iE1rqYWLQ",
    "outputId": "8d5166e7-3d4d-42d2-f4ab-c6917aab9ab0"
   },
   "outputs": [
    {
     "name": "stdout",
     "output_type": "stream",
     "text": [
      "Defaulting to user installation because normal site-packages is not writeable\n",
      "Requirement already satisfied: tiktoken in /data/home/eey254/.local/lib/python3.10/site-packages (0.6.0)\n",
      "Requirement already satisfied: requests>=2.26.0 in /share/apps/centos7/anaconda3/2023.03/lib/python3.10/site-packages (from tiktoken) (2.28.2)\n",
      "Requirement already satisfied: regex>=2022.1.18 in /share/apps/centos7/anaconda3/2023.03/lib/python3.10/site-packages (from tiktoken) (2022.7.9)\n",
      "Requirement already satisfied: idna<4,>=2.5 in /share/apps/centos7/anaconda3/2023.03/lib/python3.10/site-packages (from requests>=2.26.0->tiktoken) (3.4)\n",
      "Requirement already satisfied: certifi>=2017.4.17 in /share/apps/centos7/anaconda3/2023.03/lib/python3.10/site-packages (from requests>=2.26.0->tiktoken) (2022.12.7)\n",
      "Requirement already satisfied: urllib3<1.27,>=1.21.1 in /share/apps/centos7/anaconda3/2023.03/lib/python3.10/site-packages (from requests>=2.26.0->tiktoken) (1.26.15)\n",
      "Requirement already satisfied: charset-normalizer<4,>=2 in /share/apps/centos7/anaconda3/2023.03/lib/python3.10/site-packages (from requests>=2.26.0->tiktoken) (3.1.0)\n"
     ]
    }
   ],
   "source": [
    "!pip install tiktoken"
   ]
  },
  {
   "cell_type": "markdown",
   "metadata": {
    "id": "fyhwkeDAY4kn"
   },
   "source": [
    "# Define Parameters"
   ]
  },
  {
   "cell_type": "markdown",
   "metadata": {
    "id": "xbBqW2xsZDoQ"
   },
   "source": [
    "### GPT version used for generation"
   ]
  },
  {
   "cell_type": "code",
   "execution_count": 2,
   "metadata": {
    "executionInfo": {
     "elapsed": 23,
     "status": "ok",
     "timestamp": 1711452806484,
     "user": {
      "displayName": "Vjosa Preniqi",
      "userId": "03254366230098233872"
     },
     "user_tz": 0
    },
    "id": "1hFUOhWGZG8l"
   },
   "outputs": [],
   "source": [
    "gpt_version = \"gpt-4-0125-preview\" # change to this for use GPT3 \"gpt-3.5-turbo-0125\""
   ]
  },
  {
   "cell_type": "markdown",
   "metadata": {
    "id": "E1cFOpa_Zs_X"
   },
   "source": [
    "### Pricing"
   ]
  },
  {
   "cell_type": "code",
   "execution_count": 3,
   "metadata": {
    "executionInfo": {
     "elapsed": 22,
     "status": "ok",
     "timestamp": 1711452806484,
     "user": {
      "displayName": "Vjosa Preniqi",
      "userId": "03254366230098233872"
     },
     "user_tz": 0
    },
    "id": "4CTRm2b6Z3GZ"
   },
   "outputs": [],
   "source": [
    "pricings = {\"gpt-4-0125-preview\":(10,30),\n",
    "            \"gpt-3.5-turbo-0125\": (0.50, 1.50)}"
   ]
  },
  {
   "cell_type": "markdown",
   "metadata": {
    "id": "IDaw-5Mwaq4C"
   },
   "source": [
    "### Max Tokens"
   ]
  },
  {
   "cell_type": "code",
   "execution_count": 4,
   "metadata": {
    "executionInfo": {
     "elapsed": 23,
     "status": "ok",
     "timestamp": 1711452806485,
     "user": {
      "displayName": "Vjosa Preniqi",
      "userId": "03254366230098233872"
     },
     "user_tz": 0
    },
    "id": "8wGM3_tGasdI"
   },
   "outputs": [],
   "source": [
    "max_tokens = 4096"
   ]
  },
  {
   "cell_type": "markdown",
   "metadata": {
    "id": "lfsi7PpWg03f"
   },
   "source": [
    "### Moral Values and their Descriptors"
   ]
  },
  {
   "cell_type": "code",
   "execution_count": 6,
   "metadata": {
    "executionInfo": {
     "elapsed": 22,
     "status": "ok",
     "timestamp": 1711452806485,
     "user": {
      "displayName": "Vjosa Preniqi",
      "userId": "03254366230098233872"
     },
     "user_tz": 0
    },
    "id": "8smTORXeZzn6"
   },
   "outputs": [],
   "source": [
    "moral_values = {\"Care\": \"underlies the virtues of kindness and nurturance, empathy and compassion towards other people\",\n",
    "                \"Harm\": \"which represents the opposite of care, characterised by violent actions and intentions\",\n",
    "                \"Fairness\": \" which underlies the virtues of honesty, fair treatment, justice, and dependability.\",\n",
    "                \"Cheating\": \"which represents the opposite of fairness, encapsulating instances of unfairness and injustice.\",\n",
    "                \"Loyalty\": \"which deals with group loyalty, self-sacrifice, and vigilance against betrayal\",\n",
    "                \"Betrayal\":  \"which underlies wrongdoing and betraying your group or your relationship.\",\n",
    "                \"Authority\": \"which underlies virtues of leadership and respect within hierarchical relationships\",\n",
    "                \"Subversion\": \"which refers to acts of defiance against authority or hierarchy, and  rebellion against control\",\n",
    "                \"Purity\": \" which is concerned with the sanctity of the body and spirit, promoting virtues like chastity and self-restraint\",\n",
    "                \"Degradation\": \"that denotes the violation of purity and sanctity, including both physical and emotional corruption\"}"
   ]
  },
  {
   "cell_type": "code",
   "execution_count": 7,
   "metadata": {
    "executionInfo": {
     "elapsed": 468,
     "status": "ok",
     "timestamp": 1711461339576,
     "user": {
      "displayName": "Vjosa Preniqi",
      "userId": "03254366230098233872"
     },
     "user_tz": 0
    },
    "id": "e4xMlqF-sF87"
   },
   "outputs": [],
   "source": [
    "all_moral_values = []\n",
    "for values in moral_values:\n",
    "  all_moral_values.append(values)\n",
    "  possible_moral_values = all_moral_values.copy()\n",
    "all_moral_values = [[value] for value in all_moral_values]"
   ]
  },
  {
   "cell_type": "code",
   "execution_count": 8,
   "metadata": {
    "colab": {
     "base_uri": "https://localhost:8080/"
    },
    "executionInfo": {
     "elapsed": 332,
     "status": "ok",
     "timestamp": 1711461340747,
     "user": {
      "displayName": "Vjosa Preniqi",
      "userId": "03254366230098233872"
     },
     "user_tz": 0
    },
    "id": "rWgiraY7Zzn7",
    "outputId": "f1eeb3fc-7166-4be2-c9e1-91cf22d2312c"
   },
   "outputs": [
    {
     "data": {
      "text/plain": [
       "['Care',\n",
       " 'Harm',\n",
       " 'Fairness',\n",
       " 'Cheating',\n",
       " 'Loyalty',\n",
       " 'Betrayal',\n",
       " 'Authority',\n",
       " 'Subversion',\n",
       " 'Purity',\n",
       " 'Degradation']"
      ]
     },
     "execution_count": 8,
     "metadata": {},
     "output_type": "execute_result"
    }
   ],
   "source": [
    "possible_moral_values"
   ]
  },
  {
   "cell_type": "code",
   "execution_count": 9,
   "metadata": {
    "colab": {
     "base_uri": "https://localhost:8080/"
    },
    "executionInfo": {
     "elapsed": 7,
     "status": "ok",
     "timestamp": 1711461343320,
     "user": {
      "displayName": "Vjosa Preniqi",
      "userId": "03254366230098233872"
     },
     "user_tz": 0
    },
    "id": "vMEpRaS0Zzn7",
    "outputId": "7c683744-de36-49d1-da92-22837c6c14cd"
   },
   "outputs": [
    {
     "data": {
      "text/plain": [
       "[['Care'],\n",
       " ['Harm'],\n",
       " ['Fairness'],\n",
       " ['Cheating'],\n",
       " ['Loyalty'],\n",
       " ['Betrayal'],\n",
       " ['Authority'],\n",
       " ['Subversion'],\n",
       " ['Purity'],\n",
       " ['Degradation']]"
      ]
     },
     "execution_count": 9,
     "metadata": {},
     "output_type": "execute_result"
    }
   ],
   "source": [
    "all_moral_values"
   ]
  },
  {
   "cell_type": "markdown",
   "metadata": {
    "id": "q6IOwyc-s3k2"
   },
   "source": [
    "Here below you can also add combination of moral values if you want  to include them and generate songs with more than one moral value"
   ]
  },
  {
   "cell_type": "code",
   "execution_count": 12,
   "metadata": {
    "executionInfo": {
     "elapsed": 332,
     "status": "ok",
     "timestamp": 1711461416709,
     "user": {
      "displayName": "Vjosa Preniqi",
      "userId": "03254366230098233872"
     },
     "user_tz": 0
    },
    "id": "JTQKjxNItIPc"
   },
   "outputs": [],
   "source": [
    "# The Moral Combinattions encountered in human annotated lyrics:\n",
    "add_moral_combinations = [\n",
    "# Negative combinations of 2 Moral Foundations:\n",
    "(\"Harm\", \"Degradation\"),\n",
    "(\"Harm\", \"Subversion\"),\n",
    "(\"Harm\", \"Betrayal\"),\n",
    "(\"Betrayal\", \"Subversion\"),\n",
    "(\"Betrayal\", \"Degradation\"),\n",
    "(\"Subversion\", \"Degradation\"),\n",
    "(\"Subversion\", \"Cheating\"),\n",
    "(\"Cheating\", \"Harm\"),\n",
    "(\"Cheating\", \"Degradation\"),\n",
    "(\"Cheating\", \"Betrayal\"),\n",
    "\n",
    "# Negative combination of 3 Moral Foundations:\n",
    "(\"Harm\", \"Betrayal\", \"Degradation\"),\n",
    "(\"Harm\", \"Cheating\", \"Betrayal\"),\n",
    "(\"Harm\", \"Subversion\", \"Degradation\"),\n",
    "(\"Cheating\", \"Betrayal\", \"Degradation\"),\n",
    "\n",
    "# Mixed combinations of 2 Moral Foundations:\n",
    "(\"Harm\", \"Authority\"),\n",
    "(\"Harm\", \"Loyalty\"),\n",
    "(\"Loyalty\", \"Subversion\"),\n",
    "(\"Care\", \"Cheating\"),\n",
    "(\"Care\", \"Subversion\"),\n",
    "(\"Fairness\", \"Subversion\"),\n",
    "(\"Fairness\", \"Harm\"),\n",
    "(\"Betrayal\", \"Purity\"),\n",
    "(\"Authority\", \"Degradation\"),\n",
    "\n",
    "# Mixed combinations of 3 Moral Foundations:\n",
    "(\"Harm\", \"Fairness\", \"Subversion\"),\n",
    "(\"Harm\", \"Fairness\", \"Authority\"),\n",
    "(\"Harm\", \"Loyalty\", \"Authority\"),\n",
    "(\"Harm\", \"Betrayal\", \"Purity\"),\n",
    "(\"Harm\", \"Betrayal\", \"Authority\"),\n",
    "(\"Harm\", \"Loyalty\", \"Degradation\"),\n",
    "\n",
    "# Positive combinations of 2 Moral Foundations:\n",
    "(\"Care\", \"Fairness\"),\n",
    "(\"Care\", \"Purity\"),\n",
    "(\"Care\", \"Loyalty\"),\n",
    "(\"Care\", \"Authority\"),\n",
    "(\"Fairness\", \"Authority\"),\n",
    "(\"Fairness\", \"Purity\"),\n",
    "(\"Fairness\", \"Loyalty\"),\n",
    "(\"Loyalty\", \"Purity\"),\n",
    "(\"Loyalty\", \"Authority\"),\n",
    "(\"Authority\", \"Purity\"),\n",
    "\n",
    "# Positive combinations of 3 Moral Foundations:\n",
    "(\"Care\", \"Fairness\", \"Loyalty\"),\n",
    "(\"Care\", \"Loyalty\", \"Purity\"),\n",
    "(\"Care\", \"Fairness\", \"Purity\"),\n",
    "(\"Care\", \"Fairness\", \"Authority\"),\n",
    "(\"Loyalty\", \"Authority\", \"Purity\"),\n",
    "(\"Loyalty\", \"Fairness\", \"Authority\"),\n",
    "(\"Loyalty\", \"Fairness\", \"Purity\")]\n",
    "all_moral_values.extend(add_moral_combinations)\n",
    "# all_moral_values = add_moral_combinations"
   ]
  },
  {
   "cell_type": "code",
   "execution_count": 10,
   "metadata": {
    "colab": {
     "base_uri": "https://localhost:8080/"
    },
    "executionInfo": {
     "elapsed": 774,
     "status": "ok",
     "timestamp": 1711461419682,
     "user": {
      "displayName": "Vjosa Preniqi",
      "userId": "03254366230098233872"
     },
     "user_tz": 0
    },
    "id": "8RxVDNGRCE0A",
    "outputId": "098aadf1-db01-4c7b-f366-f14aac0b4720"
   },
   "outputs": [
    {
     "data": {
      "text/plain": [
       "10"
      ]
     },
     "execution_count": 10,
     "metadata": {},
     "output_type": "execute_result"
    }
   ],
   "source": [
    "len(all_moral_values)"
   ]
  },
  {
   "cell_type": "code",
   "execution_count": 11,
   "metadata": {
    "colab": {
     "base_uri": "https://localhost:8080/"
    },
    "executionInfo": {
     "elapsed": 1052,
     "status": "ok",
     "timestamp": 1711461424533,
     "user": {
      "displayName": "Vjosa Preniqi",
      "userId": "03254366230098233872"
     },
     "user_tz": 0
    },
    "id": "Y0DVn_RovTcw",
    "outputId": "a1efb64b-4ce9-45c8-eed7-f6daf4542b0f"
   },
   "outputs": [
    {
     "data": {
      "text/plain": [
       "[['Care'],\n",
       " ['Harm'],\n",
       " ['Fairness'],\n",
       " ['Cheating'],\n",
       " ['Loyalty'],\n",
       " ['Betrayal'],\n",
       " ['Authority'],\n",
       " ['Subversion'],\n",
       " ['Purity'],\n",
       " ['Degradation']]"
      ]
     },
     "execution_count": 11,
     "metadata": {},
     "output_type": "execute_result"
    }
   ],
   "source": [
    "all_moral_values"
   ]
  },
  {
   "cell_type": "code",
   "execution_count": 12,
   "metadata": {
    "colab": {
     "base_uri": "https://localhost:8080/"
    },
    "executionInfo": {
     "elapsed": 3,
     "status": "ok",
     "timestamp": 1711453277941,
     "user": {
      "displayName": "Vjosa Preniqi",
      "userId": "03254366230098233872"
     },
     "user_tz": 0
    },
    "id": "axs5oUAA2ymx",
    "outputId": "984d4dbd-e36a-4fd0-c916-96c5fc636070"
   },
   "outputs": [
    {
     "data": {
      "text/plain": [
       "['Care',\n",
       " 'Harm',\n",
       " 'Fairness',\n",
       " 'Cheating',\n",
       " 'Loyalty',\n",
       " 'Betrayal',\n",
       " 'Authority',\n",
       " 'Subversion',\n",
       " 'Purity',\n",
       " 'Degradation']"
      ]
     },
     "execution_count": 12,
     "metadata": {},
     "output_type": "execute_result"
    }
   ],
   "source": [
    "possible_moral_values"
   ]
  },
  {
   "cell_type": "markdown",
   "metadata": {
    "id": "Wh1bbHxbpTfK"
   },
   "source": [
    "### OpenAI API Key\n",
    "Here, insert the API key for OpenAI. You need to create an account and add credit to it in order to use the code below"
   ]
  },
  {
   "cell_type": "code",
   "execution_count": 13,
   "metadata": {
    "executionInfo": {
     "elapsed": 1086,
     "status": "ok",
     "timestamp": 1711454079448,
     "user": {
      "displayName": "Vjosa Preniqi",
      "userId": "03254366230098233872"
     },
     "user_tz": 0
    },
    "id": "rBYhUn6kpdq-"
   },
   "outputs": [],
   "source": [
    "import openai\n",
    "\n",
    "openai.api_key = \"\" # enter the api key here"
   ]
  },
  {
   "cell_type": "markdown",
   "metadata": {
    "id": "x7rmkFksp1_n"
   },
   "source": [
    "### Number of Examples to generate"
   ]
  },
  {
   "cell_type": "code",
   "execution_count": 16,
   "metadata": {
    "executionInfo": {
     "elapsed": 236,
     "status": "ok",
     "timestamp": 1711455638144,
     "user": {
      "displayName": "Vjosa Preniqi",
      "userId": "03254366230098233872"
     },
     "user_tz": 0
    },
    "id": "RUlsnklcp3_W"
   },
   "outputs": [],
   "source": [
    "num_samples = 2000 # change this to automatise and produce all songs at once"
   ]
  },
  {
   "cell_type": "code",
   "execution_count": 17,
   "metadata": {
    "colab": {
     "base_uri": "https://localhost:8080/"
    },
    "executionInfo": {
     "elapsed": 237,
     "status": "ok",
     "timestamp": 1711454084826,
     "user": {
      "displayName": "Vjosa Preniqi",
      "userId": "03254366230098233872"
     },
     "user_tz": 0
    },
    "id": "jw40hDggIAXJ",
    "outputId": "7ca1c7df-7b87-4e40-e217-545be01b6130"
   },
   "outputs": [
    {
     "data": {
      "text/plain": [
       "60"
      ]
     },
     "execution_count": 17,
     "metadata": {},
     "output_type": "execute_result"
    }
   ],
   "source": [
    "len(all_moral_values)*6"
   ]
  },
  {
   "cell_type": "markdown",
   "metadata": {
    "id": "zrmbu3qKqCU9"
   },
   "source": [
    "### Define How many songs by Genre to Include and whether to use the Genre variable"
   ]
  },
  {
   "cell_type": "code",
   "execution_count": 18,
   "metadata": {
    "executionInfo": {
     "elapsed": 249,
     "status": "ok",
     "timestamp": 1711454089992,
     "user": {
      "displayName": "Vjosa Preniqi",
      "userId": "03254366230098233872"
     },
     "user_tz": 0
    },
    "id": "s7cL7TaqqQqK"
   },
   "outputs": [],
   "source": [
    "use_genre = True"
   ]
  },
  {
   "cell_type": "code",
   "execution_count": 19,
   "metadata": {
    "executionInfo": {
     "elapsed": 216,
     "status": "ok",
     "timestamp": 1711455022955,
     "user": {
      "displayName": "Vjosa Preniqi",
      "userId": "03254366230098233872"
     },
     "user_tz": 0
    },
    "id": "OpurDxJcqTi1"
   },
   "outputs": [],
   "source": [
    "# percentage\n",
    "genres = {\"Rock\": 0.15,\n",
    "          \"Pop\": 0.15,\n",
    "          \"Country\": 0.15,\n",
    "          \"Hip Hop\": 0.15,\n",
    "          \"R&B\": 0.10,\n",
    "          \"Soul\":0.10,\n",
    "          \"Folk\": 0.10,\n",
    "          \"Blues\": 0.05,\n",
    "          \"Jazz\":0.05\n",
    "           }"
   ]
  },
  {
   "cell_type": "code",
   "execution_count": 20,
   "metadata": {
    "colab": {
     "base_uri": "https://localhost:8080/"
    },
    "executionInfo": {
     "elapsed": 1,
     "status": "ok",
     "timestamp": 1711455023451,
     "user": {
      "displayName": "Vjosa Preniqi",
      "userId": "03254366230098233872"
     },
     "user_tz": 0
    },
    "id": "gJzDc_D3qNpk",
    "outputId": "718e2c9c-e21e-479c-a8b6-c31fd8dd1324"
   },
   "outputs": [
    {
     "data": {
      "text/plain": [
       "1.0"
      ]
     },
     "execution_count": 20,
     "metadata": {},
     "output_type": "execute_result"
    }
   ],
   "source": [
    "sum(genres.values())"
   ]
  },
  {
   "cell_type": "markdown",
   "metadata": {
    "id": "TlcmaSzhPmL5"
   },
   "source": [
    "### Download Artists\n",
    "It was noted that the songs generated are quite generic and similar to each others. In order to diversify the songs, we then want to give artists from a specific music genre as a template to follow rather than the generic genre. To do so, we download the MusicOSet dataset including over 11.000 bands and solo artists and we filter artists from the specified music genres"
   ]
  },
  {
   "cell_type": "code",
   "execution_count": 21,
   "metadata": {
    "colab": {
     "base_uri": "https://localhost:8080/"
    },
    "executionInfo": {
     "elapsed": 348,
     "status": "ok",
     "timestamp": 1711454309401,
     "user": {
      "displayName": "Vjosa Preniqi",
      "userId": "03254366230098233872"
     },
     "user_tz": 0
    },
    "id": "2tg3_oZ4Q3v0",
    "outputId": "7f450046-0f80-48d8-d6cd-65e16f43827a"
   },
   "outputs": [
    {
     "name": "stdout",
     "output_type": "stream",
     "text": [
      "--2024-04-08 12:02:19--  https://marianaossilva.github.io/DSW2019/assets/data/musicoset_metadata.zip\n",
      "Resolving marianaossilva.github.io (marianaossilva.github.io)... 2606:50c0:8002::153, 2606:50c0:8001::153, 2606:50c0:8000::153, ...\n",
      "Connecting to marianaossilva.github.io (marianaossilva.github.io)|2606:50c0:8002::153|:443... connected.\n",
      "HTTP request sent, awaiting response... 200 OK\n",
      "Length: 6017643 (5.7M) [application/zip]\n",
      "Saving to: ‘musicoset_metadata.zip.1’\n",
      "\n",
      "100%[======================================>] 6,017,643   --.-K/s   in 0.03s   \n",
      "\n",
      "2024-04-08 12:02:19 (224 MB/s) - ‘musicoset_metadata.zip.1’ saved [6017643/6017643]\n",
      "\n"
     ]
    }
   ],
   "source": [
    "!wget https://marianaossilva.github.io/DSW2019/assets/data/musicoset_metadata.zip"
   ]
  },
  {
   "cell_type": "code",
   "execution_count": 22,
   "metadata": {
    "colab": {
     "base_uri": "https://localhost:8080/"
    },
    "executionInfo": {
     "elapsed": 142349,
     "status": "ok",
     "timestamp": 1711455185831,
     "user": {
      "displayName": "Vjosa Preniqi",
      "userId": "03254366230098233872"
     },
     "user_tz": 0
    },
    "id": "kOrik4hWQ7ND",
    "outputId": "9e55ddfd-cf10-4a30-b93f-30807e38f62f"
   },
   "outputs": [
    {
     "name": "stdout",
     "output_type": "stream",
     "text": [
      "Archive:  musicoset_metadata.zip\n",
      "replace musicoset_metadata/albums.csv? [y]es, [n]o, [A]ll, [N]one, [r]ename: ^C\n"
     ]
    }
   ],
   "source": [
    "!unzip musicoset_metadata.zip"
   ]
  },
  {
   "cell_type": "code",
   "execution_count": 32,
   "metadata": {
    "executionInfo": {
     "elapsed": 885,
     "status": "ok",
     "timestamp": 1711454314910,
     "user": {
      "displayName": "Vjosa Preniqi",
      "userId": "03254366230098233872"
     },
     "user_tz": 0
    },
    "id": "Em0JxKUaRATv"
   },
   "outputs": [],
   "source": [
    "artists = pd.read_table(\"musicoset_metadata/artists.csv\")"
   ]
  },
  {
   "cell_type": "code",
   "execution_count": 33,
   "metadata": {
    "colab": {
     "base_uri": "https://localhost:8080/",
     "height": 476
    },
    "executionInfo": {
     "elapsed": 711,
     "status": "ok",
     "timestamp": 1711454362463,
     "user": {
      "displayName": "Vjosa Preniqi",
      "userId": "03254366230098233872"
     },
     "user_tz": 0
    },
    "id": "d0W-y8f26CZX",
    "outputId": "851d7d5c-9fb1-4d17-848e-f22abe22d2c6"
   },
   "outputs": [
    {
     "data": {
      "text/html": [
       "<div>\n",
       "<style scoped>\n",
       "    .dataframe tbody tr th:only-of-type {\n",
       "        vertical-align: middle;\n",
       "    }\n",
       "\n",
       "    .dataframe tbody tr th {\n",
       "        vertical-align: top;\n",
       "    }\n",
       "\n",
       "    .dataframe thead th {\n",
       "        text-align: right;\n",
       "    }\n",
       "</style>\n",
       "<table border=\"1\" class=\"dataframe\">\n",
       "  <thead>\n",
       "    <tr style=\"text-align: right;\">\n",
       "      <th></th>\n",
       "      <th>artist_id</th>\n",
       "      <th>name</th>\n",
       "      <th>followers</th>\n",
       "      <th>popularity</th>\n",
       "      <th>artist_type</th>\n",
       "      <th>main_genre</th>\n",
       "      <th>genres</th>\n",
       "      <th>image_url</th>\n",
       "    </tr>\n",
       "  </thead>\n",
       "  <tbody>\n",
       "    <tr>\n",
       "      <th>0</th>\n",
       "      <td>66CXWjxzNUsdJxJ2JdwvnR</td>\n",
       "      <td>Ariana Grande</td>\n",
       "      <td>34554242.0</td>\n",
       "      <td>96</td>\n",
       "      <td>singer</td>\n",
       "      <td>dance pop</td>\n",
       "      <td>['dance pop', 'pop', 'post-teen pop']</td>\n",
       "      <td>https://i.scdn.co/image/b1dfbe843b0b9f54ab2e58...</td>\n",
       "    </tr>\n",
       "    <tr>\n",
       "      <th>1</th>\n",
       "      <td>26VFTg2z8YR0cCuwLzESi2</td>\n",
       "      <td>Halsey</td>\n",
       "      <td>7368242.0</td>\n",
       "      <td>90</td>\n",
       "      <td>singer</td>\n",
       "      <td>dance pop</td>\n",
       "      <td>['dance pop', 'electropop', 'etherpop', 'indie...</td>\n",
       "      <td>https://i.scdn.co/image/22a5f3d8c42bc7cb55215e...</td>\n",
       "    </tr>\n",
       "    <tr>\n",
       "      <th>2</th>\n",
       "      <td>0Y5tJX1MQlPlqiwlOH1tJY</td>\n",
       "      <td>Travis Scott</td>\n",
       "      <td>6313709.0</td>\n",
       "      <td>94</td>\n",
       "      <td>rapper</td>\n",
       "      <td>pop</td>\n",
       "      <td>['pop', 'pop rap', 'rap']</td>\n",
       "      <td>https://i.scdn.co/image/dc5eba5e032c2e5bc4d42c...</td>\n",
       "    </tr>\n",
       "    <tr>\n",
       "      <th>3</th>\n",
       "      <td>246dkjvS1zLTtiykXe5h60</td>\n",
       "      <td>Post Malone</td>\n",
       "      <td>16737002.0</td>\n",
       "      <td>96</td>\n",
       "      <td>rapper</td>\n",
       "      <td>dfw rap</td>\n",
       "      <td>['dfw rap', 'pop', 'rap']</td>\n",
       "      <td>https://i.scdn.co/image/f9d8b742b66609f12da023...</td>\n",
       "    </tr>\n",
       "    <tr>\n",
       "      <th>4</th>\n",
       "      <td>1zNqQNIdeOUZHb8zbZRFMX</td>\n",
       "      <td>Swae Lee</td>\n",
       "      <td>483032.0</td>\n",
       "      <td>89</td>\n",
       "      <td>singer</td>\n",
       "      <td>trap music</td>\n",
       "      <td>['trap music']</td>\n",
       "      <td>https://i.scdn.co/image/a177469870b41f7e17e3b5...</td>\n",
       "    </tr>\n",
       "    <tr>\n",
       "      <th>...</th>\n",
       "      <td>...</td>\n",
       "      <td>...</td>\n",
       "      <td>...</td>\n",
       "      <td>...</td>\n",
       "      <td>...</td>\n",
       "      <td>...</td>\n",
       "      <td>...</td>\n",
       "      <td>...</td>\n",
       "    </tr>\n",
       "    <tr>\n",
       "      <th>11513</th>\n",
       "      <td>7vyRisgvM6Wm0Pnp0qXx6m</td>\n",
       "      <td>Sweeney Todd</td>\n",
       "      <td>634.0</td>\n",
       "      <td>19</td>\n",
       "      <td>-</td>\n",
       "      <td>classic canadian rock</td>\n",
       "      <td>['classic canadian rock']</td>\n",
       "      <td>https://i.scdn.co/image/47166b7afefd590ce85086...</td>\n",
       "    </tr>\n",
       "    <tr>\n",
       "      <th>11514</th>\n",
       "      <td>2Uh4UmiQhrrElbrvJVH0dT</td>\n",
       "      <td>Brooklyn Dreams</td>\n",
       "      <td>318.0</td>\n",
       "      <td>32</td>\n",
       "      <td>band</td>\n",
       "      <td>-</td>\n",
       "      <td>[]</td>\n",
       "      <td>https://i.scdn.co/image/bae9c82929c50d2dadb1ec...</td>\n",
       "    </tr>\n",
       "    <tr>\n",
       "      <th>11515</th>\n",
       "      <td>1VGFS4UGLOAxlMGqzcqHG1</td>\n",
       "      <td>PMD</td>\n",
       "      <td>1405.0</td>\n",
       "      <td>32</td>\n",
       "      <td>-</td>\n",
       "      <td>-</td>\n",
       "      <td>[]</td>\n",
       "      <td>https://i.scdn.co/image/926172541a4dff5dca6bce...</td>\n",
       "    </tr>\n",
       "    <tr>\n",
       "      <th>11516</th>\n",
       "      <td>3Se8xpgCBmfXVnZqRSRRH9</td>\n",
       "      <td>The Tribute Co.</td>\n",
       "      <td>274.0</td>\n",
       "      <td>21</td>\n",
       "      <td>-</td>\n",
       "      <td>-</td>\n",
       "      <td>[]</td>\n",
       "      <td>https://i.scdn.co/image/d4e9b2299fc5cbe4332251...</td>\n",
       "    </tr>\n",
       "    <tr>\n",
       "      <th>11517</th>\n",
       "      <td>45d3pteh2TnzUMMl27J4MY</td>\n",
       "      <td>Tommy Morgan</td>\n",
       "      <td>78.0</td>\n",
       "      <td>15</td>\n",
       "      <td>singer</td>\n",
       "      <td>-</td>\n",
       "      <td>[]</td>\n",
       "      <td>https://i.scdn.co/image/1c5cb45ccb80438b72a98a...</td>\n",
       "    </tr>\n",
       "  </tbody>\n",
       "</table>\n",
       "<p>11518 rows × 8 columns</p>\n",
       "</div>"
      ],
      "text/plain": [
       "                    artist_id             name   followers  popularity  \\\n",
       "0      66CXWjxzNUsdJxJ2JdwvnR    Ariana Grande  34554242.0          96   \n",
       "1      26VFTg2z8YR0cCuwLzESi2           Halsey   7368242.0          90   \n",
       "2      0Y5tJX1MQlPlqiwlOH1tJY     Travis Scott   6313709.0          94   \n",
       "3      246dkjvS1zLTtiykXe5h60      Post Malone  16737002.0          96   \n",
       "4      1zNqQNIdeOUZHb8zbZRFMX         Swae Lee    483032.0          89   \n",
       "...                       ...              ...         ...         ...   \n",
       "11513  7vyRisgvM6Wm0Pnp0qXx6m     Sweeney Todd       634.0          19   \n",
       "11514  2Uh4UmiQhrrElbrvJVH0dT  Brooklyn Dreams       318.0          32   \n",
       "11515  1VGFS4UGLOAxlMGqzcqHG1              PMD      1405.0          32   \n",
       "11516  3Se8xpgCBmfXVnZqRSRRH9  The Tribute Co.       274.0          21   \n",
       "11517  45d3pteh2TnzUMMl27J4MY     Tommy Morgan        78.0          15   \n",
       "\n",
       "      artist_type             main_genre  \\\n",
       "0          singer              dance pop   \n",
       "1          singer              dance pop   \n",
       "2          rapper                    pop   \n",
       "3          rapper                dfw rap   \n",
       "4          singer             trap music   \n",
       "...           ...                    ...   \n",
       "11513           -  classic canadian rock   \n",
       "11514        band                      -   \n",
       "11515           -                      -   \n",
       "11516           -                      -   \n",
       "11517      singer                      -   \n",
       "\n",
       "                                                  genres  \\\n",
       "0                  ['dance pop', 'pop', 'post-teen pop']   \n",
       "1      ['dance pop', 'electropop', 'etherpop', 'indie...   \n",
       "2                              ['pop', 'pop rap', 'rap']   \n",
       "3                              ['dfw rap', 'pop', 'rap']   \n",
       "4                                         ['trap music']   \n",
       "...                                                  ...   \n",
       "11513                          ['classic canadian rock']   \n",
       "11514                                                 []   \n",
       "11515                                                 []   \n",
       "11516                                                 []   \n",
       "11517                                                 []   \n",
       "\n",
       "                                               image_url  \n",
       "0      https://i.scdn.co/image/b1dfbe843b0b9f54ab2e58...  \n",
       "1      https://i.scdn.co/image/22a5f3d8c42bc7cb55215e...  \n",
       "2      https://i.scdn.co/image/dc5eba5e032c2e5bc4d42c...  \n",
       "3      https://i.scdn.co/image/f9d8b742b66609f12da023...  \n",
       "4      https://i.scdn.co/image/a177469870b41f7e17e3b5...  \n",
       "...                                                  ...  \n",
       "11513  https://i.scdn.co/image/47166b7afefd590ce85086...  \n",
       "11514  https://i.scdn.co/image/bae9c82929c50d2dadb1ec...  \n",
       "11515  https://i.scdn.co/image/926172541a4dff5dca6bce...  \n",
       "11516  https://i.scdn.co/image/d4e9b2299fc5cbe4332251...  \n",
       "11517  https://i.scdn.co/image/1c5cb45ccb80438b72a98a...  \n",
       "\n",
       "[11518 rows x 8 columns]"
      ]
     },
     "execution_count": 33,
     "metadata": {},
     "output_type": "execute_result"
    }
   ],
   "source": [
    "artists"
   ]
  },
  {
   "cell_type": "code",
   "execution_count": 35,
   "metadata": {
    "colab": {
     "base_uri": "https://localhost:8080/",
     "height": 476
    },
    "executionInfo": {
     "elapsed": 430,
     "status": "ok",
     "timestamp": 1711455512218,
     "user": {
      "displayName": "Vjosa Preniqi",
      "userId": "03254366230098233872"
     },
     "user_tz": 0
    },
    "id": "QtWpXdWm_U_t",
    "outputId": "0de629fb-c9d7-43d7-a6a3-0a8bb2b51ad2"
   },
   "outputs": [
    {
     "data": {
      "text/html": [
       "<div>\n",
       "<style scoped>\n",
       "    .dataframe tbody tr th:only-of-type {\n",
       "        vertical-align: middle;\n",
       "    }\n",
       "\n",
       "    .dataframe tbody tr th {\n",
       "        vertical-align: top;\n",
       "    }\n",
       "\n",
       "    .dataframe thead th {\n",
       "        text-align: right;\n",
       "    }\n",
       "</style>\n",
       "<table border=\"1\" class=\"dataframe\">\n",
       "  <thead>\n",
       "    <tr style=\"text-align: right;\">\n",
       "      <th></th>\n",
       "      <th>artist_id</th>\n",
       "      <th>name</th>\n",
       "      <th>followers</th>\n",
       "      <th>popularity</th>\n",
       "      <th>artist_type</th>\n",
       "      <th>main_genre</th>\n",
       "      <th>genres</th>\n",
       "      <th>image_url</th>\n",
       "    </tr>\n",
       "  </thead>\n",
       "  <tbody>\n",
       "    <tr>\n",
       "      <th>3694</th>\n",
       "      <td>7G1GBhoKtEPnP86X2PvEYO</td>\n",
       "      <td>Nina Simone</td>\n",
       "      <td>1425463.0</td>\n",
       "      <td>72</td>\n",
       "      <td>singer</td>\n",
       "      <td>jazz blues</td>\n",
       "      <td>['jazz blues', 'soul', 'soul jazz', 'vocal jazz']</td>\n",
       "      <td>https://i.scdn.co/image/32639038b81bf78f356e1a...</td>\n",
       "    </tr>\n",
       "    <tr>\n",
       "      <th>4724</th>\n",
       "      <td>6J7biCazzYhU3gM9j1wfid</td>\n",
       "      <td>Jamiroquai</td>\n",
       "      <td>1333282.0</td>\n",
       "      <td>71</td>\n",
       "      <td>band</td>\n",
       "      <td>acid jazz</td>\n",
       "      <td>['acid jazz', 'dance pop']</td>\n",
       "      <td>https://i.scdn.co/image/ff80e8160d1c0025dc12c2...</td>\n",
       "    </tr>\n",
       "    <tr>\n",
       "      <th>8657</th>\n",
       "      <td>11kBu957KTYoAltZHDm8gW</td>\n",
       "      <td>Buena Vista Social Club</td>\n",
       "      <td>653009.0</td>\n",
       "      <td>68</td>\n",
       "      <td>-</td>\n",
       "      <td>latin jazz</td>\n",
       "      <td>['latin jazz', 'world']</td>\n",
       "      <td>https://i.scdn.co/image/5d20d6f8d14f216a770d1a...</td>\n",
       "    </tr>\n",
       "    <tr>\n",
       "      <th>1807</th>\n",
       "      <td>6I3M904Y9IwgDjrQ9pANiB</td>\n",
       "      <td>Kenny G</td>\n",
       "      <td>513445.0</td>\n",
       "      <td>67</td>\n",
       "      <td>-</td>\n",
       "      <td>smooth jazz</td>\n",
       "      <td>['smooth jazz', 'smooth saxophone']</td>\n",
       "      <td>https://i.scdn.co/image/0b4efeba9b97bf02028f5d...</td>\n",
       "    </tr>\n",
       "    <tr>\n",
       "      <th>6779</th>\n",
       "      <td>25KNo5GDS6ZpLkjasaecA3</td>\n",
       "      <td>Thievery Corporation</td>\n",
       "      <td>463095.0</td>\n",
       "      <td>65</td>\n",
       "      <td>duo</td>\n",
       "      <td>acid jazz</td>\n",
       "      <td>['acid jazz', 'downtempo', 'electronic', 'live...</td>\n",
       "      <td>https://i.scdn.co/image/7e1f7ad6e0cd4aad43e71a...</td>\n",
       "    </tr>\n",
       "    <tr>\n",
       "      <th>...</th>\n",
       "      <td>...</td>\n",
       "      <td>...</td>\n",
       "      <td>...</td>\n",
       "      <td>...</td>\n",
       "      <td>...</td>\n",
       "      <td>...</td>\n",
       "      <td>...</td>\n",
       "      <td>...</td>\n",
       "    </tr>\n",
       "    <tr>\n",
       "      <th>6099</th>\n",
       "      <td>1YENA5yMZMS2ta6wzLKWPg</td>\n",
       "      <td>Johnny Lytle</td>\n",
       "      <td>889.0</td>\n",
       "      <td>17</td>\n",
       "      <td>-</td>\n",
       "      <td>jazz vibraphone</td>\n",
       "      <td>['jazz vibraphone', 'soul jazz']</td>\n",
       "      <td>https://i.scdn.co/image/35683c943ba495f5fb5ea5...</td>\n",
       "    </tr>\n",
       "    <tr>\n",
       "      <th>10227</th>\n",
       "      <td>6e9Ex9Qjrbzae5ivbHzaG9</td>\n",
       "      <td>Passport</td>\n",
       "      <td>2718.0</td>\n",
       "      <td>14</td>\n",
       "      <td>-</td>\n",
       "      <td>jazz fusion</td>\n",
       "      <td>['jazz fusion']</td>\n",
       "      <td>https://i.scdn.co/image/565d460f854b055fb75dd4...</td>\n",
       "    </tr>\n",
       "    <tr>\n",
       "      <th>10738</th>\n",
       "      <td>3y58dknRdBENZ8oVErWu9B</td>\n",
       "      <td>Oliver Lake</td>\n",
       "      <td>902.0</td>\n",
       "      <td>12</td>\n",
       "      <td>-</td>\n",
       "      <td>avant-garde jazz</td>\n",
       "      <td>['avant-garde jazz', 'free improvisation', 'ja...</td>\n",
       "      <td>https://i.scdn.co/image/99cc519b66f2e9948e5b4e...</td>\n",
       "    </tr>\n",
       "    <tr>\n",
       "      <th>10921</th>\n",
       "      <td>2hTvGUmcaZ95Pjs1avHHIS</td>\n",
       "      <td>Diane Marino</td>\n",
       "      <td>388.0</td>\n",
       "      <td>8</td>\n",
       "      <td>-</td>\n",
       "      <td>deep vocal jazz</td>\n",
       "      <td>['deep vocal jazz']</td>\n",
       "      <td>https://i.scdn.co/image/6df73d951818187a270f69...</td>\n",
       "    </tr>\n",
       "    <tr>\n",
       "      <th>5928</th>\n",
       "      <td>47fwSDHFIfnFlDVbYkSYkm</td>\n",
       "      <td>Wilmer &amp; The Dukes</td>\n",
       "      <td>58.0</td>\n",
       "      <td>1</td>\n",
       "      <td>band</td>\n",
       "      <td>deep free jazz</td>\n",
       "      <td>['deep free jazz']</td>\n",
       "      <td>-</td>\n",
       "    </tr>\n",
       "  </tbody>\n",
       "</table>\n",
       "<p>158 rows × 8 columns</p>\n",
       "</div>"
      ],
      "text/plain": [
       "                    artist_id                     name  followers  popularity  \\\n",
       "3694   7G1GBhoKtEPnP86X2PvEYO              Nina Simone  1425463.0          72   \n",
       "4724   6J7biCazzYhU3gM9j1wfid               Jamiroquai  1333282.0          71   \n",
       "8657   11kBu957KTYoAltZHDm8gW  Buena Vista Social Club   653009.0          68   \n",
       "1807   6I3M904Y9IwgDjrQ9pANiB                  Kenny G   513445.0          67   \n",
       "6779   25KNo5GDS6ZpLkjasaecA3     Thievery Corporation   463095.0          65   \n",
       "...                       ...                      ...        ...         ...   \n",
       "6099   1YENA5yMZMS2ta6wzLKWPg             Johnny Lytle      889.0          17   \n",
       "10227  6e9Ex9Qjrbzae5ivbHzaG9                 Passport     2718.0          14   \n",
       "10738  3y58dknRdBENZ8oVErWu9B              Oliver Lake      902.0          12   \n",
       "10921  2hTvGUmcaZ95Pjs1avHHIS             Diane Marino      388.0           8   \n",
       "5928   47fwSDHFIfnFlDVbYkSYkm       Wilmer & The Dukes       58.0           1   \n",
       "\n",
       "      artist_type        main_genre  \\\n",
       "3694       singer        jazz blues   \n",
       "4724         band         acid jazz   \n",
       "8657            -        latin jazz   \n",
       "1807            -       smooth jazz   \n",
       "6779          duo         acid jazz   \n",
       "...           ...               ...   \n",
       "6099            -   jazz vibraphone   \n",
       "10227           -       jazz fusion   \n",
       "10738           -  avant-garde jazz   \n",
       "10921           -   deep vocal jazz   \n",
       "5928         band    deep free jazz   \n",
       "\n",
       "                                                  genres  \\\n",
       "3694   ['jazz blues', 'soul', 'soul jazz', 'vocal jazz']   \n",
       "4724                          ['acid jazz', 'dance pop']   \n",
       "8657                             ['latin jazz', 'world']   \n",
       "1807                 ['smooth jazz', 'smooth saxophone']   \n",
       "6779   ['acid jazz', 'downtempo', 'electronic', 'live...   \n",
       "...                                                  ...   \n",
       "6099                    ['jazz vibraphone', 'soul jazz']   \n",
       "10227                                    ['jazz fusion']   \n",
       "10738  ['avant-garde jazz', 'free improvisation', 'ja...   \n",
       "10921                                ['deep vocal jazz']   \n",
       "5928                                  ['deep free jazz']   \n",
       "\n",
       "                                               image_url  \n",
       "3694   https://i.scdn.co/image/32639038b81bf78f356e1a...  \n",
       "4724   https://i.scdn.co/image/ff80e8160d1c0025dc12c2...  \n",
       "8657   https://i.scdn.co/image/5d20d6f8d14f216a770d1a...  \n",
       "1807   https://i.scdn.co/image/0b4efeba9b97bf02028f5d...  \n",
       "6779   https://i.scdn.co/image/7e1f7ad6e0cd4aad43e71a...  \n",
       "...                                                  ...  \n",
       "6099   https://i.scdn.co/image/35683c943ba495f5fb5ea5...  \n",
       "10227  https://i.scdn.co/image/565d460f854b055fb75dd4...  \n",
       "10738  https://i.scdn.co/image/99cc519b66f2e9948e5b4e...  \n",
       "10921  https://i.scdn.co/image/6df73d951818187a270f69...  \n",
       "5928                                                   -  \n",
       "\n",
       "[158 rows x 8 columns]"
      ]
     },
     "execution_count": 35,
     "metadata": {},
     "output_type": "execute_result"
    }
   ],
   "source": [
    "artists[artists.main_genre.str.contains('jazz')].sort_values(by = \"popularity\", ascending = False)"
   ]
  },
  {
   "cell_type": "code",
   "execution_count": 36,
   "metadata": {
    "colab": {
     "base_uri": "https://localhost:8080/"
    },
    "executionInfo": {
     "elapsed": 237,
     "status": "ok",
     "timestamp": 1711455207822,
     "user": {
      "displayName": "Vjosa Preniqi",
      "userId": "03254366230098233872"
     },
     "user_tz": 0
    },
    "id": "2Zt90fQK-V3B",
    "outputId": "5135e80e-ccb8-42f5-bd36-70b3ff4df8f8"
   },
   "outputs": [
    {
     "data": {
      "text/plain": [
       "main_genre\n",
       "-                       3148\n",
       "album rock               305\n",
       "dance pop                280\n",
       "alternative metal        275\n",
       "adult standards          207\n",
       "contemporary country     206\n",
       "classic soul             144\n",
       "alternative rock         135\n",
       "alternative hip hop      111\n",
       "brill building pop       110\n",
       "disco                     94\n",
       "alternative dance         93\n",
       "atl hip hop               92\n",
       "bubblegum pop             89\n",
       "alternative country       88\n",
       "dance rock                81\n",
       "art rock                  81\n",
       "acoustic pop              79\n",
       "funk                      78\n",
       "anthem worship            73\n",
       "karaoke                   70\n",
       "classic uk pop            69\n",
       "blues-rock                66\n",
       "gospel                    64\n",
       "country                   62\n",
       "latin                     60\n",
       "ccm                       55\n",
       "east coast hip hop        53\n",
       "australian pop            52\n",
       "glam metal                51\n",
       "Name: count, dtype: int64"
      ]
     },
     "execution_count": 36,
     "metadata": {},
     "output_type": "execute_result"
    }
   ],
   "source": [
    "artists.main_genre.value_counts()[:30]"
   ]
  },
  {
   "cell_type": "markdown",
   "metadata": {
    "id": "QwFdImKeYiTJ"
   },
   "source": [
    "# Utility Functions"
   ]
  },
  {
   "cell_type": "markdown",
   "metadata": {
    "id": "WYMWIMkxYk2q"
   },
   "source": [
    "#### compute number of tokens and pricing (pricing is per 1000 token)"
   ]
  },
  {
   "cell_type": "code",
   "execution_count": 41,
   "metadata": {
    "colab": {
     "base_uri": "https://localhost:8080/"
    },
    "executionInfo": {
     "elapsed": 1584,
     "status": "ok",
     "timestamp": 1711455222320,
     "user": {
      "displayName": "Vjosa Preniqi",
      "userId": "03254366230098233872"
     },
     "user_tz": 0
    },
    "id": "LJollw33YrVZ",
    "outputId": "7aa76453-5885-4287-8553-122b28206247"
   },
   "outputs": [
    {
     "name": "stdout",
     "output_type": "stream",
     "text": [
      "9\n"
     ]
    }
   ],
   "source": [
    "import tiktoken\n",
    "\n",
    "def num_tokens_from_string(string: str, encoding_name: str) -> int:\n",
    "    encoding = tiktoken.encoding_for_model(encoding_name)\n",
    "    num_tokens = len(encoding.encode(string))\n",
    "    return num_tokens\n",
    "\n",
    "print(num_tokens_from_string(\"Hello world, let's test tiktoken.\", gpt_version))"
   ]
  },
  {
   "cell_type": "code",
   "execution_count": 42,
   "metadata": {
    "colab": {
     "base_uri": "https://localhost:8080/"
    },
    "executionInfo": {
     "elapsed": 312,
     "status": "ok",
     "timestamp": 1711455242990,
     "user": {
      "displayName": "Vjosa Preniqi",
      "userId": "03254366230098233872"
     },
     "user_tz": 0
    },
    "id": "1YCv0mh3aTo_",
    "outputId": "43e7ed42-ee23-416f-fb57-8c7b0dfd57f3"
   },
   "outputs": [
    {
     "name": "stdout",
     "output_type": "stream",
     "text": [
      "0.12297\n"
     ]
    }
   ],
   "source": [
    "def compute_max_price(prompt: str, gpt_version: str) -> int:\n",
    "    \"\"\"\n",
    "    Compute maximum price for API call with given prompt\n",
    "    The maximum price is computed by assuming the model will output\n",
    "    the maximum number of tokens that it can output (i.e. 4096).\n",
    "    Return price in dollars\n",
    "    \"\"\"\n",
    "    input_tokens = num_tokens_from_string(prompt, gpt_version)\n",
    "    price_in = input_tokens/1000000*pricings[gpt_version][0]\n",
    "    price_out = max_tokens/1000000*pricings[gpt_version][1]\n",
    "\n",
    "    return price_in+price_out\n",
    "\n",
    "print(compute_max_price(\"Hello world, let's test tiktoken.\", gpt_version))"
   ]
  },
  {
   "cell_type": "code",
   "execution_count": 43,
   "metadata": {
    "executionInfo": {
     "elapsed": 238,
     "status": "ok",
     "timestamp": 1711455246822,
     "user": {
      "displayName": "Vjosa Preniqi",
      "userId": "03254366230098233872"
     },
     "user_tz": 0
    },
    "id": "fEZ1s75yzgNh"
   },
   "outputs": [],
   "source": [
    "def compute_actual_price(completion, gpt_version: str) -> int:\n",
    "    \"\"\"\n",
    "    Compute maximum price for API call with given prompt\n",
    "    The maximum price is computed by assuming the model will output\n",
    "    the maximum number of tokens that it can output (i.e. 4096).\n",
    "    Return price in dollars\n",
    "    \"\"\"\n",
    "    price_in = completion.usage.prompt_tokens/1000000*pricings[gpt_version][0]\n",
    "    price_out = completion.usage.completion_tokens/1000000*pricings[gpt_version][1]\n",
    "\n",
    "    return price_in+price_out"
   ]
  },
  {
   "cell_type": "markdown",
   "metadata": {
    "id": "B-pUdM5RioMi"
   },
   "source": [
    "#### Accessing Moral Values Descriptors"
   ]
  },
  {
   "cell_type": "code",
   "execution_count": 44,
   "metadata": {
    "executionInfo": {
     "elapsed": 213,
     "status": "ok",
     "timestamp": 1711455256929,
     "user": {
      "displayName": "Vjosa Preniqi",
      "userId": "03254366230098233872"
     },
     "user_tz": 0
    },
    "id": "8PvUuu7liqjP"
   },
   "outputs": [],
   "source": [
    "def get_moral_value(moral_value):\n",
    "  for key, description in moral_values.items():\n",
    "    if moral_value in key:\n",
    "      return description"
   ]
  },
  {
   "cell_type": "markdown",
   "metadata": {
    "id": "0LKB1BWh2TCE"
   },
   "source": [
    "### Vectorise Moral Values\n",
    "Create vector representation of moral values to store results"
   ]
  },
  {
   "cell_type": "code",
   "execution_count": 45,
   "metadata": {
    "executionInfo": {
     "elapsed": 208,
     "status": "ok",
     "timestamp": 1711455259943,
     "user": {
      "displayName": "Vjosa Preniqi",
      "userId": "03254366230098233872"
     },
     "user_tz": 0
    },
    "id": "ohHkdWEH2aO0"
   },
   "outputs": [],
   "source": [
    "def vectorise_moral_values(moral_values, possible_moral_values):\n",
    "  moral_values_vector = {value:0 for value in possible_moral_values}\n",
    "  for value in moral_values:\n",
    "    moral_values_vector[value] = 1\n",
    "  return moral_values_vector"
   ]
  },
  {
   "cell_type": "code",
   "execution_count": 46,
   "metadata": {
    "colab": {
     "base_uri": "https://localhost:8080/"
    },
    "executionInfo": {
     "elapsed": 216,
     "status": "ok",
     "timestamp": 1711455261876,
     "user": {
      "displayName": "Vjosa Preniqi",
      "userId": "03254366230098233872"
     },
     "user_tz": 0
    },
    "id": "lO_0-CRo3MH6",
    "outputId": "81ad99ff-efac-406e-d5ff-bea9adb36642"
   },
   "outputs": [
    {
     "data": {
      "text/plain": [
       "{'Care': 1,\n",
       " 'Harm': 0,\n",
       " 'Fairness': 1,\n",
       " 'Cheating': 0,\n",
       " 'Loyalty': 0,\n",
       " 'Betrayal': 0,\n",
       " 'Authority': 0,\n",
       " 'Subversion': 0,\n",
       " 'Purity': 0,\n",
       " 'Degradation': 0}"
      ]
     },
     "execution_count": 46,
     "metadata": {},
     "output_type": "execute_result"
    }
   ],
   "source": [
    "vectorise_moral_values([\"Care\", \"Fairness\"], possible_moral_values)"
   ]
  },
  {
   "cell_type": "markdown",
   "metadata": {
    "id": "Tyn5TKDfbtCD"
   },
   "source": [
    "### Prompt Creation and Response Formatting"
   ]
  },
  {
   "cell_type": "code",
   "execution_count": 47,
   "metadata": {
    "executionInfo": {
     "elapsed": 361,
     "status": "ok",
     "timestamp": 1711455658281,
     "user": {
      "displayName": "Vjosa Preniqi",
      "userId": "03254366230098233872"
     },
     "user_tz": 0
    },
    "id": "y22vByQMbyEU"
   },
   "outputs": [],
   "source": [
    "import re\n",
    "\n",
    "def prompt_creation(moral_values,\n",
    "                    gpt_version,\n",
    "                    genre=None,\n",
    "                    option=2,\n",
    "                    exclude_indeces=None):\n",
    "  direct_instruction = \"write original lyrics of a song expressing these moral foundations. DO NOT directly mention these moral foundations. DO NOT explicitly talk about morality.\"\n",
    "\n",
    "  name = None\n",
    "\n",
    "  if genre is not None and option<3:\n",
    "    direct_instruction += f\" Write it as a {genre} song.\"\n",
    "  if not option:\n",
    "    # option 0 does not include any music genre nor role assignment or moral value explanation\n",
    "    value = moral_values[0]\n",
    "    instruction = f\"Given the Moral dimension of {value}\"\n",
    "    if len(moral_values)>1:\n",
    "      for value in moral_values[1:]:\n",
    "          instruction = \" \".join([instruction, f\"and the Moral dimension of {value}\"])\n",
    "    prompt = \", \".join([instruction, direct_instruction])\n",
    "    prompt = [{\"role\": \"user\", \"content\": prompt}]\n",
    "  elif option==1:\n",
    "    # option 1 does include role assignment but no moral value explanation\n",
    "    value = moral_values[0]\n",
    "    instruction = f\"Given the Moral dimension of {value}\"\n",
    "    if len(moral_values)>1:\n",
    "      for value in moral_values[1:]:\n",
    "          instruction = \" \".join([instruction, f\"and the Moral dimension of {value}\"])\n",
    "    prompt = \", \".join([instruction, direct_instruction])\n",
    "    prompt = [{\"role\": \"system\", \"content\": \"You are an assistant to a songwriter, and you need to assist in writing lyrics related to the Moral foundations described in the Moral Foundation Theory.\"},\n",
    "             {\"role\": \"user\", \"content\": prompt}]\n",
    "  elif option==2:\n",
    "    # option 2 does include role assignment and moral value explanation\n",
    "    value = moral_values[0]\n",
    "    description = get_moral_value(value)\n",
    "\n",
    "    instruction = f\"Given the Moral dimension of {value}\"\n",
    "    if len(moral_values)>1:\n",
    "      for value in moral_values[1:]:\n",
    "          description = get_moral_value(value)\n",
    "\n",
    "          instruction = \" \".join([instruction, f\"and the Moral dimension of {value}, defined as the foundation {description},\"])\n",
    "    prompt = \" \".join([instruction, direct_instruction])\n",
    "    prompt = [{\"role\": \"system\", \"content\": \"You are an assistant to a songwriter, and you need to assist in writing lyrics related to the Moral foundations described in the Moral Foundation Theory.\"},\n",
    "             {\"role\": \"user\", \"content\": prompt}]\n",
    "  elif option==3:\n",
    "    # option 3 does include role assignment and moral value explanation, plus artists instead of genres\n",
    "    value = moral_values[0]\n",
    "    description = get_moral_value(value)\n",
    "\n",
    "    n_attempts = 0\n",
    "    idx = -1\n",
    "    while idx in exclude_indeces:\n",
    "\n",
    "        artist_filt = artists[artists.main_genre.str.contains(genre.lower())]\n",
    "        if n_attempts==len(artist_filt):\n",
    "            break\n",
    "\n",
    "        artist = artist_filt.sample(1)\n",
    "        idx = artist.index.values[0]\n",
    "\n",
    "        name = artist[\"name\"].values[0]\n",
    "        n_attempts+=1\n",
    "\n",
    "    exclude_indeces.add(idx)\n",
    "    direct_instruction += f\" Write it in the style of {name}.\"\n",
    "\n",
    "    instruction = f\"Given the Moral dimensions of {value}\"\n",
    "    if len(moral_values)>1:\n",
    "      for value in moral_values[1:]:\n",
    "          description = get_moral_value(value)\n",
    "\n",
    "          instruction = \" \".join([instruction, f\"and the Moral dimension of {value}, defined as the foundation {description},\"])\n",
    "    prompt = \" \".join([instruction, direct_instruction])\n",
    "    prompt = [{\"role\": \"system\", \"content\": \"You are an assistant to a songwriter, and you need to assist in writing lyrics related to the Moral foundations described in the Moral Foundation Theory.\"},\n",
    "             {\"role\": \"user\", \"content\": prompt}]\n",
    "\n",
    "  max_price = compute_max_price(\" \".join([msg[\"content\"] for msg in prompt]), gpt_version)\n",
    "\n",
    "  if exclude_indeces is not None:\n",
    "    return prompt, max_price, exclude_indeces, name\n",
    "  return prompt, max_price, name\n",
    "\n",
    "def clean_completion(completion):\n",
    "   return re.sub(\"\\n\\(.*?\\)\\n\", \"\", completion)\n",
    "\n",
    "def get_completion(moral_values,\n",
    "                   model,\n",
    "                   genre=None,\n",
    "                   temperature=1,\n",
    "                   prompt_option=2,\n",
    "                   exclude_indeces=None):\n",
    "\n",
    "  if exclude_indeces is not None and prompt_option==3:\n",
    "      prompt, max_price, exclude_indeces, name = prompt_creation(moral_values, gpt_version=model, genre=genre,option=prompt_option, exclude_indeces=exclude_indeces)\n",
    "  else:\n",
    "      prompt, max_price, name =prompt_creation(moral_values, gpt_version=model, genre=genre,option=prompt_option)\n",
    "\n",
    "  response = openai.chat.completions.create(\n",
    "\n",
    "  model=model,\n",
    "\n",
    "  messages=prompt,\n",
    "\n",
    "  temperature=temperature,\n",
    "\n",
    "  )\n",
    "\n",
    "  actual_price = compute_actual_price(response, model)\n",
    "\n",
    "  lyric = clean_completion(response.choices[0].message.content)\n",
    "\n",
    "  return lyric, actual_price, max_price, exclude_indeces, name"
   ]
  },
  {
   "cell_type": "markdown",
   "metadata": {
    "id": "WjaSj5c8potV"
   },
   "source": [
    "# Main Process"
   ]
  },
  {
   "cell_type": "code",
   "execution_count": 48,
   "metadata": {
    "executionInfo": {
     "elapsed": 244,
     "status": "ok",
     "timestamp": 1711455666094,
     "user": {
      "displayName": "Vjosa Preniqi",
      "userId": "03254366230098233872"
     },
     "user_tz": 0
    },
    "id": "7Qa2oT3frAix"
   },
   "outputs": [],
   "source": [
    "prompt_option = 3 # use both role assignment and moral value description, define artisti to mimic rather than genre more generally\n",
    "temperature = 1 # increase for more creative outputs, decrease for more deterministic ones"
   ]
  },
  {
   "cell_type": "code",
   "execution_count": 49,
   "metadata": {
    "colab": {
     "base_uri": "https://localhost:8080/"
    },
    "executionInfo": {
     "elapsed": 232,
     "status": "ok",
     "timestamp": 1711461442594,
     "user": {
      "displayName": "Vjosa Preniqi",
      "userId": "03254366230098233872"
     },
     "user_tz": 0
    },
    "id": "XkYVHkTSDxeh",
    "outputId": "67c7928c-af9d-4d5d-dbc8-0692a2e97dfd"
   },
   "outputs": [
    {
     "data": {
      "text/plain": [
       "210"
      ]
     },
     "execution_count": 49,
     "metadata": {},
     "output_type": "execute_result"
    }
   ],
   "source": [
    "len(all_moral_values)*7*3"
   ]
  },
  {
   "cell_type": "code",
   "execution_count": 50,
   "metadata": {
    "colab": {
     "base_uri": "https://localhost:8080/"
    },
    "id": "Sgopc6xBpqrx",
    "outputId": "23b634ee-4e1d-49d0-b63b-d3ccbb3e7a35"
   },
   "outputs": [
    {
     "name": "stdout",
     "output_type": "stream",
     "text": [
      "Generated 0 song lyrics. Running price: 0\n",
      "Generated 10 song lyrics. Running price: 0.12376000000000001\n",
      "Generated 20 song lyrics. Running price: 0.25447000000000003\n",
      "Generated 30 song lyrics. Running price: 0.39084000000000013\n",
      "Generated 40 song lyrics. Running price: 0.5226800000000001\n",
      "Generated 50 song lyrics. Running price: 0.6357300000000002\n",
      "Generated 60 song lyrics. Running price: 0.7591300000000002\n",
      "Generated 70 song lyrics. Running price: 0.8822300000000002\n",
      "Generated 80 song lyrics. Running price: 1.0150800000000002\n",
      "Generated 90 song lyrics. Running price: 1.1398600000000003\n",
      "Generated 100 song lyrics. Running price: 1.27204\n",
      "Generated 110 song lyrics. Running price: 1.3932600000000002\n",
      "Generated 120 song lyrics. Running price: 1.5143000000000004\n",
      "Generated 130 song lyrics. Running price: 1.6408800000000006\n",
      "Generated 140 song lyrics. Running price: 1.7658800000000008\n",
      "Generated 150 song lyrics. Running price: 1.9007200000000009\n",
      "Generated 160 song lyrics. Running price: 2.0240200000000006\n",
      "Generated 170 song lyrics. Running price: 2.1458200000000005\n",
      "Generated 180 song lyrics. Running price: 2.278090000000001\n",
      "Generated 190 song lyrics. Running price: 2.4045500000000013\n",
      "Generated 210 song lyrics. Running price: 2.652600000000001\n",
      "Generated 220 song lyrics. Running price: 2.7944500000000008\n",
      "Generated 230 song lyrics. Running price: 2.931550000000001\n",
      "Generated 240 song lyrics. Running price: 3.05377\n",
      "Generated 250 song lyrics. Running price: 3.1785\n",
      "Generated 260 song lyrics. Running price: 3.30813\n",
      "Generated 270 song lyrics. Running price: 3.444759999999999\n",
      "Generated 280 song lyrics. Running price: 3.572609999999999\n",
      "Generated 290 song lyrics. Running price: 3.691869999999999\n",
      "Generated 300 song lyrics. Running price: 3.813829999999999\n",
      "Generated 310 song lyrics. Running price: 3.944709999999999\n",
      "Generated 320 song lyrics. Running price: 4.072909999999999\n",
      "Generated 330 song lyrics. Running price: 4.19238\n",
      "Generated 340 song lyrics. Running price: 4.319480000000001\n",
      "Generated 350 song lyrics. Running price: 4.460670000000001\n",
      "Generated 360 song lyrics. Running price: 4.576610000000002\n",
      "Generated 370 song lyrics. Running price: 4.700730000000002\n",
      "Generated 380 song lyrics. Running price: 4.836410000000002\n",
      "Generated 390 song lyrics. Running price: 4.975970000000001\n"
     ]
    }
   ],
   "source": [
    "generated_samples = 0\n",
    "running_price = 0\n",
    "results = {\"lyrics\":[], \"genre\": [], \"artist\": []} # Can we add artist information?\n",
    "exclude_indeces = set([-1])\n",
    "for moral_value in possible_moral_values:\n",
    "  results[moral_value] = []\n",
    "if use_genre:\n",
    "  if num_samples<len(genres)*len(all_moral_values):\n",
    "      print(\"Not enough sample to generate to include all music genres!\")\n",
    "  for values in all_moral_values:\n",
    "      for genre, percentage in genres.items():\n",
    "          for _ in range(round(num_samples*percentage/len(all_moral_values))):\n",
    "              if generated_samples>num_samples:\n",
    "                  break\n",
    "              elif not generated_samples%10:\n",
    "                  print(f\"Generated {generated_samples} song lyrics. Running price: {running_price}\")\n",
    "              lyrics, price, _, exclude_indeces, name = get_completion(values,\n",
    "                                                                 gpt_version,\n",
    "                                                                 genre,\n",
    "                                                                 temperature=temperature,\n",
    "                                                                 prompt_option=prompt_option,\n",
    "                                                                 exclude_indeces=exclude_indeces)\n",
    "              running_price += price\n",
    "              moral_vector = vectorise_moral_values(values, possible_moral_values)\n",
    "              for value, is_there in moral_vector.items():\n",
    "                results[value].append(is_there)\n",
    "              results[\"lyrics\"].append(lyrics)\n",
    "              results[\"genre\"].append(genre)\n",
    "              results[\"artist\"].append(name)\n",
    "              df_results = pd.DataFrame(results)\n",
    "              df_results.to_csv(f\"automatic_lyrics_{gpt_version}_with_prompt_option_{prompt_option}_multiple_mft_per_song.csv\", index = None)  \n",
    "              generated_samples += 1\n",
    "else:\n",
    "  while generated_samples<num_samples:\n",
    "      for values in all_moral_values:\n",
    "          for _ in range(round(num_samples/len(all_moral_values))):\n",
    "              if generated_samples>num_samples:\n",
    "                    break\n",
    "              elif not generated_samples%10:\n",
    "                  print(f\"Generated {generated_samples} song lyrics. Running price: {running_price}\")\n",
    "              lyrics, price, _, exclude_indeces, name = get_completion(values,\n",
    "                                                                 gpt_version,\n",
    "                                                                 temperature=temperature,\n",
    "                                                                 prompt_option=prompt_option,\n",
    "                                                                 exclude_indeces=exclude_indeces)\n",
    "\n",
    "              moral_vector = vectorise_moral_values(values, possible_moral_values)\n",
    "              for value, is_there in moral_vector.items():\n",
    "                  results[value].append(is_there)\n",
    "              results[\"lyrics\"].append(lyrics)\n",
    "              results[\"genre\"].append(None)\n",
    "              results[\"artist\"].append(None)\n",
    "              df_results = pd.DataFrame(results)\n",
    "              df_results.to_csv(f\"automatic_lyrics_{gpt_version}_with_prompt_option_{prompt_option}_multiple_mft_per_song.csv\")\n",
    "              running_price += price\n",
    "              generated_samples += 1"
   ]
  },
  {
   "cell_type": "code",
   "execution_count": null,
   "metadata": {},
   "outputs": [],
   "source": []
  }
 ],
 "metadata": {
  "colab": {
   "provenance": []
  },
  "kernelspec": {
   "display_name": "Python 3",
   "language": "python",
   "name": "python3"
  },
  "language_info": {
   "codemirror_mode": {
    "name": "ipython",
    "version": 3
   },
   "file_extension": ".py",
   "mimetype": "text/x-python",
   "name": "python",
   "nbconvert_exporter": "python",
   "pygments_lexer": "ipython3",
   "version": "3.10.10"
  }
 },
 "nbformat": 4,
 "nbformat_minor": 1
}
